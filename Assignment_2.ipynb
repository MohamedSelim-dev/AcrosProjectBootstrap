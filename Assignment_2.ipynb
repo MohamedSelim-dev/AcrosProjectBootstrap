{
  "nbformat": 4,
  "nbformat_minor": 0,
  "metadata": {
    "coursera": {
      "course_slug": "python-machine-learning",
      "graded_item_id": "f9SY5",
      "launcher_item_id": "oxndk",
      "part_id": "mh1Vo"
    },
    "kernelspec": {
      "display_name": "Python 3",
      "language": "python",
      "name": "python3"
    },
    "language_info": {
      "codemirror_mode": {
        "name": "ipython",
        "version": 3
      },
      "file_extension": ".py",
      "mimetype": "text/x-python",
      "name": "python",
      "nbconvert_exporter": "python",
      "pygments_lexer": "ipython3",
      "version": "3.8.5"
    },
    "toc": {
      "base_numbering": 1,
      "nav_menu": {},
      "number_sections": true,
      "sideBar": true,
      "skip_h1_title": false,
      "title_cell": "Table of Contents",
      "title_sidebar": "Contents",
      "toc_cell": false,
      "toc_position": {},
      "toc_section_display": true,
      "toc_window_display": false
    },
    "colab": {
      "name": "Assignment 2.ipynb",
      "provenance": [],
      "include_colab_link": true
    }
  },
  "cells": [
    {
      "cell_type": "markdown",
      "metadata": {
        "id": "view-in-github",
        "colab_type": "text"
      },
      "source": [
        "<a href=\"https://colab.research.google.com/github/MohamedSelim-dev/AcrosProjectBootstrap/blob/master/Assignment_2.ipynb\" target=\"_parent\"><img src=\"https://colab.research.google.com/assets/colab-badge.svg\" alt=\"Open In Colab\"/></a>"
      ]
    },
    {
      "cell_type": "markdown",
      "metadata": {
        "id": "EgGlZb0ZveSB"
      },
      "source": [
        ""
      ]
    },
    {
      "cell_type": "markdown",
      "metadata": {
        "id": "---4q3dqveSD"
      },
      "source": [
        "# Assignment 1 "
      ]
    },
    {
      "cell_type": "markdown",
      "metadata": {
        "id": "j2pArj7QveSF"
      },
      "source": [
        "breast-cancer data set"
      ]
    },
    {
      "cell_type": "code",
      "metadata": {
        "id": "eYd23_gqveSF"
      },
      "source": [
        "import numpy as np\n",
        "import pandas as pd\n",
        "from sklearn.datasets import load_breast_cancer\n",
        "cancer=load_breast_cancer()\n",
        "data = np.c_[cancer.data, cancer.target]\n",
        "columns = np.append(cancer.feature_names, [\"target\"])\n",
        "data=pd.DataFrame(data, columns=columns)"
      ],
      "execution_count": 8,
      "outputs": []
    },
    {
      "cell_type": "markdown",
      "metadata": {
        "id": "-SbbS4DrveSG"
      },
      "source": [
        "## Question 1 \n",
        "\n",
        "Print shape of the dataset"
      ]
    },
    {
      "cell_type": "code",
      "metadata": {
        "colab": {
          "base_uri": "https://localhost:8080/"
        },
        "id": "4b38-6VcveSH",
        "outputId": "06724471-31fd-44df-eafc-afc99d31e82f"
      },
      "source": [
        "print(data.shape)\n"
      ],
      "execution_count": 4,
      "outputs": [
        {
          "output_type": "stream",
          "text": [
            "(569, 31)\n"
          ],
          "name": "stdout"
        }
      ]
    },
    {
      "cell_type": "markdown",
      "metadata": {
        "id": "6AnhtF_eveSH"
      },
      "source": [
        "notes\n",
        "* all columns except for the label column are called `dimensions, features` \n",
        "* features -->X\n",
        "* label -->y\n",
        "\n",
        "* all rows are called `instances`\n"
      ]
    },
    {
      "cell_type": "markdown",
      "metadata": {
        "id": "2Nel-m43veSI"
      },
      "source": [
        "## Question 2\n",
        "print the top 5 rows of the dataset"
      ]
    },
    {
      "cell_type": "code",
      "metadata": {
        "colab": {
          "base_uri": "https://localhost:8080/"
        },
        "id": "96gJV3GLveSI",
        "outputId": "4a151d37-dcc6-469f-ed2c-b70812dd7f7f"
      },
      "source": [
        "print(data.head(5))"
      ],
      "execution_count": 6,
      "outputs": [
        {
          "output_type": "stream",
          "text": [
            "   mean radius  mean texture  ...  worst fractal dimension  target\n",
            "0        17.99         10.38  ...                  0.11890     0.0\n",
            "1        20.57         17.77  ...                  0.08902     0.0\n",
            "2        19.69         21.25  ...                  0.08758     0.0\n",
            "3        11.42         20.38  ...                  0.17300     0.0\n",
            "4        20.29         14.34  ...                  0.07678     0.0\n",
            "\n",
            "[5 rows x 31 columns]\n"
          ],
          "name": "stdout"
        }
      ]
    },
    {
      "cell_type": "markdown",
      "metadata": {
        "id": "xJyqvuJJveSJ"
      },
      "source": [
        "## Question 3\n",
        "we have two classes  as a type of cancer  benign or malignant\n",
        "how many instance in each class --> search the internet"
      ]
    },
    {
      "cell_type": "code",
      "metadata": {
        "colab": {
          "base_uri": "https://localhost:8080/"
        },
        "id": "hrN77IujveSJ",
        "outputId": "29af3a80-74a7-47c5-e2b0-830bc5636fd7"
      },
      "source": [
        "counts = data.target.value_counts(ascending=True)\n",
        "counts.index = \"malignant benign\".split()\n",
        "print(counts)"
      ],
      "execution_count": 10,
      "outputs": [
        {
          "output_type": "stream",
          "text": [
            "malignant    212\n",
            "benign       357\n",
            "Name: target, dtype: int64\n"
          ],
          "name": "stdout"
        }
      ]
    },
    {
      "cell_type": "markdown",
      "metadata": {
        "collapsed": true,
        "id": "QUtmaUJuveSJ"
      },
      "source": [
        "## Question 4\n",
        "Split data to train and test using  `test set =0.2` and `random_state=0`"
      ]
    },
    {
      "cell_type": "code",
      "metadata": {
        "colab": {
          "base_uri": "https://localhost:8080/"
        },
        "id": "iSsMMT04veSK",
        "outputId": "5dc9a843-7957-4eff-a266-5b883baa69bd"
      },
      "source": [
        "from sklearn.model_selection import train_test_split\n",
        "\n",
        "x = data[data.columns[:-1]]\n",
        "y = data.target\n",
        "\n",
        "x_train, x_test, y_train, y_test=train_test_split(x, y, test_size=0.2, random_state=0)\n",
        "print(x_train.shape)\n",
        "print(y_train.shape)\n",
        "print(x_test.shape)\n",
        "print(y_test.shape)"
      ],
      "execution_count": 18,
      "outputs": [
        {
          "output_type": "stream",
          "text": [
            "(455, 30)\n",
            "(455,)\n",
            "(114, 30)\n",
            "(114,)\n"
          ],
          "name": "stdout"
        }
      ]
    },
    {
      "cell_type": "markdown",
      "metadata": {
        "id": "S8HfxrtdveSK"
      },
      "source": [
        "## Question 5\n",
        "Using KNeighborsClassifier, fit a k-nearest neighbors (knn) classifier with `X_train`, `y_train` and using one nearest neighbor (`n_neighbors = 1`).\n",
        "print accuracy odf test set\n"
      ]
    },
    {
      "cell_type": "code",
      "metadata": {
        "colab": {
          "base_uri": "https://localhost:8080/"
        },
        "id": "LhjT_UYtveSK",
        "outputId": "fa9b538d-03bf-46e5-d558-2737a396674d"
      },
      "source": [
        "from sklearn.neighbors import KNeighborsClassifier   \n",
        "knn = KNeighborsClassifier(n_neighbors=1)\n",
        "knn.fit(x_train, y_train)    \n",
        "print('KNeighborsClassifier:')\n",
        "print('Accuracy of on training set: {:.2f}'    \n",
        "     .format(knn.score(x_train, y_train)))    \n",
        "print('Accuracy of test set: {:.2f}'    \n",
        "     .format(knn.score(x_test, y_test)))"
      ],
      "execution_count": 19,
      "outputs": [
        {
          "output_type": "stream",
          "text": [
            "KNeighborsClassifier:\n",
            "Accuracy of on training set: 1.00\n",
            "Accuracy of test set: 0.91\n"
          ],
          "name": "stdout"
        }
      ]
    },
    {
      "cell_type": "markdown",
      "metadata": {
        "id": "GSSB9I5dveSL"
      },
      "source": [
        "## Question 6\n",
        "Using KNeighborsClassifier, fit a k-nearest neighbors (knn) classifier with `X_train`, `y_train` and using one nearest neighbor (`n_neighbors =5`).\n",
        "print accuracy odf test set"
      ]
    },
    {
      "cell_type": "code",
      "metadata": {
        "colab": {
          "base_uri": "https://localhost:8080/"
        },
        "id": "JzbmTEiBveSL",
        "outputId": "79eb4d7d-7ece-437e-a24e-58ffc0f79abf"
      },
      "source": [
        "knn = KNeighborsClassifier(n_neighbors=5)\n",
        "knn.fit(x_train, y_train)    \n",
        "print('KNeighborsClassifier:')\n",
        "print('Accuracy of on training set: {:.2f}'    \n",
        "     .format(knn.score(x_train, y_train)))    \n",
        "print('Accuracy of test set: {:.2f}'    \n",
        "     .format(knn.score(x_test, y_test)))"
      ],
      "execution_count": 20,
      "outputs": [
        {
          "output_type": "stream",
          "text": [
            "KNeighborsClassifier:\n",
            "Accuracy of on training set: 0.95\n",
            "Accuracy of test set: 0.94\n"
          ],
          "name": "stdout"
        }
      ]
    },
    {
      "cell_type": "markdown",
      "metadata": {
        "id": "Tyy7moSzveSL"
      },
      "source": [
        "Your result is sooooooooooooooooooooo bad"
      ]
    }
  ]
}